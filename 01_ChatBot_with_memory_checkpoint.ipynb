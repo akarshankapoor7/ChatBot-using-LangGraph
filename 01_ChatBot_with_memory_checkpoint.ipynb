{
 "cells": [
  {
   "cell_type": "markdown",
   "id": "ee16dc75",
   "metadata": {},
   "source": [
    "### 🤖 LangGraph Chatbot with Memory Checkpointing\n",
    "\n",
    "- This chatbot is built using LangGraph where conversation flow is modeled as a graph (START → chat_node → END).\n",
    "\n",
    "- It integrates Groq LLM for generating responses and uses MemorySaver checkpoints to preserve chat history across turns.\n",
    "\n",
    "- The chatbot runs in a loop, allowing continuous interaction until the user exits."
   ]
  },
  {
   "cell_type": "code",
   "execution_count": 1,
   "id": "e215f20d",
   "metadata": {},
   "outputs": [],
   "source": [
    "import os\n",
    "from dotenv import load_dotenv\n",
    "\n",
    "# Load environment variables from .env file\n",
    "load_dotenv()\n",
    "\n",
    "# Access the key\n",
    "groq_api_key = os.getenv(\"GROQ_API_KEY\")"
   ]
  },
  {
   "cell_type": "code",
   "execution_count": 2,
   "id": "6562d092",
   "metadata": {},
   "outputs": [
    {
     "name": "stdout",
     "output_type": "stream",
     "text": [
      "As an AI, I don't have feelings, but I'm here and ready to assist you! How can I help you today?\n",
      "\n"
     ]
    }
   ],
   "source": [
    "from langchain_groq import ChatGroq\n",
    "\n",
    "llm = ChatGroq(\n",
    "    groq_api_key=groq_api_key,\n",
    "    model=\"gemma2-9b-it\"   \n",
    ")\n",
    "\n",
    "resp = llm.invoke(\"Hello, how are you?\")\n",
    "print(resp.content)"
   ]
  },
  {
   "cell_type": "code",
   "execution_count": 3,
   "id": "faffb0d1",
   "metadata": {},
   "outputs": [],
   "source": [
    "from langgraph.graph import StateGraph,START,END\n",
    "from typing import TypedDict, Annotated\n",
    "from langchain_core.messages import BaseMessage, HumanMessage\n",
    "from langchain_groq import ChatGroq\n",
    "\n",
    "# concept of persistance --> memory checkpoint\n",
    "from langgraph.checkpoint.memory import MemorySaver"
   ]
  },
  {
   "cell_type": "code",
   "execution_count": 4,
   "id": "3d553888",
   "metadata": {},
   "outputs": [],
   "source": [
    "from langgraph.graph.message import add_messages\n",
    "\n",
    "class ChatState(TypedDict):\n",
    "    messages: Annotated[list[BaseMessage], add_messages]"
   ]
  },
  {
   "cell_type": "code",
   "execution_count": 5,
   "id": "8d68e41d",
   "metadata": {},
   "outputs": [],
   "source": [
    "def chat_node(state:ChatState):\n",
    "    messages = state['messages'] \n",
    "    resp = llm.invoke(messages)\n",
    "    return {'messages': [resp]}\n",
    "\n",
    "    "
   ]
  },
  {
   "cell_type": "code",
   "execution_count": 6,
   "id": "154e00bc",
   "metadata": {},
   "outputs": [],
   "source": [
    "checkpoint = MemorySaver()\n",
    "\n",
    "graph = StateGraph(ChatState)\n",
    "\n",
    "# add nodes\n",
    "graph.add_node('chat_node', chat_node)\n",
    "\n",
    "# add edges\n",
    "graph.add_edge(START,'chat_node')\n",
    "graph.add_edge('chat_node',END)\n",
    "\n",
    "# compile the graph\n",
    "chatbot =graph.compile(checkpointer=checkpoint)"
   ]
  },
  {
   "cell_type": "code",
   "execution_count": 7,
   "id": "b7a49007",
   "metadata": {},
   "outputs": [
    {
     "data": {
      "image/png": "[encoded data removed]",
      "text/plain": [
       "<langgraph.graph.state.CompiledStateGraph object at 0x00000150B63F2900>"
      ]
     },
     "execution_count": 7,
     "metadata": {},
     "output_type": "execute_result"
    }
   ],
   "source": [
    "chatbot"
   ]
  },
  {
   "cell_type": "code",
   "execution_count": 8,
   "id": "cd8b76fa",
   "metadata": {},
   "outputs": [
    {
     "ename": "ValueError",
     "evalue": "Checkpointer requires one or more of the following 'configurable' keys: thread_id, checkpoint_ns, checkpoint_id",
     "output_type": "error",
     "traceback": [
      "\u001b[31m---------------------------------------------------------------------------\u001b[39m",
      "\u001b[31mValueError\u001b[39m                                Traceback (most recent call last)",
      "\u001b[36mCell\u001b[39m\u001b[36m \u001b[39m\u001b[32mIn[8]\u001b[39m\u001b[32m, line 7\u001b[39m\n\u001b[32m      1\u001b[39m \u001b[38;5;66;03m# example run\u001b[39;00m\n\u001b[32m      3\u001b[39m initial_state ={\n\u001b[32m      4\u001b[39m     \u001b[33m'\u001b[39m\u001b[33mmessages\u001b[39m\u001b[33m'\u001b[39m: [HumanMessage(content=\u001b[33m\"\u001b[39m\u001b[33mHello, how are you? and who is the prime minister of india?\u001b[39m\u001b[33m\"\u001b[39m)]\n\u001b[32m      5\u001b[39m }\n\u001b[32m----> \u001b[39m\u001b[32m7\u001b[39m \u001b[43mchatbot\u001b[49m\u001b[43m.\u001b[49m\u001b[43minvoke\u001b[49m\u001b[43m(\u001b[49m\u001b[43minitial_state\u001b[49m\u001b[43m)\u001b[49m\n",
      "\u001b[36mFile \u001b[39m\u001b[32mc:\\Users\\Akarshan Kapoor\\Documents\\Data Science\\Agentic AI\\LangGraph\\lgraph\\Lib\\site-packages\\langgraph\\pregel\\main.py:3026\u001b[39m, in \u001b[36mPregel.invoke\u001b[39m\u001b[34m(self, input, config, context, stream_mode, print_mode, output_keys, interrupt_before, interrupt_after, durability, **kwargs)\u001b[39m\n\u001b[32m   3023\u001b[39m chunks: \u001b[38;5;28mlist\u001b[39m[\u001b[38;5;28mdict\u001b[39m[\u001b[38;5;28mstr\u001b[39m, Any] | Any] = []\n\u001b[32m   3024\u001b[39m interrupts: \u001b[38;5;28mlist\u001b[39m[Interrupt] = []\n\u001b[32m-> \u001b[39m\u001b[32m3026\u001b[39m \u001b[43m\u001b[49m\u001b[38;5;28;43;01mfor\u001b[39;49;00m\u001b[43m \u001b[49m\u001b[43mchunk\u001b[49m\u001b[43m \u001b[49m\u001b[38;5;129;43;01min\u001b[39;49;00m\u001b[43m \u001b[49m\u001b[38;5;28;43mself\u001b[39;49m\u001b[43m.\u001b[49m\u001b[43mstream\u001b[49m\u001b[43m(\u001b[49m\n\u001b[32m   3027\u001b[39m \u001b[43m    \u001b[49m\u001b[38;5;28;43minput\u001b[39;49m\u001b[43m,\u001b[49m\n\u001b[32m   3028\u001b[39m \u001b[43m    \u001b[49m\u001b[43mconfig\u001b[49m\u001b[43m,\u001b[49m\n\u001b[32m   3029\u001b[39m \u001b[43m    \u001b[49m\u001b[43mcontext\u001b[49m\u001b[43m=\u001b[49m\u001b[43mcontext\u001b[49m\u001b[43m,\u001b[49m\n\u001b[32m   3030\u001b[39m \u001b[43m    \u001b[49m\u001b[43mstream_mode\u001b[49m\u001b[43m=\u001b[49m\u001b[43m[\u001b[49m\u001b[33;43m\"\u001b[39;49m\u001b[33;43mupdates\u001b[39;49m\u001b[33;43m\"\u001b[39;49m\u001b[43m,\u001b[49m\u001b[43m \u001b[49m\u001b[33;43m\"\u001b[39;49m\u001b[33;43mvalues\u001b[39;49m\u001b[33;43m\"\u001b[39;49m\u001b[43m]\u001b[49m\n\u001b[32m   3031\u001b[39m \u001b[43m    \u001b[49m\u001b[38;5;28;43;01mif\u001b[39;49;00m\u001b[43m \u001b[49m\u001b[43mstream_mode\u001b[49m\u001b[43m \u001b[49m\u001b[43m==\u001b[49m\u001b[43m \u001b[49m\u001b[33;43m\"\u001b[39;49m\u001b[33;43mvalues\u001b[39;49m\u001b[33;43m\"\u001b[39;49m\n\u001b[32m   3032\u001b[39m \u001b[43m    \u001b[49m\u001b[38;5;28;43;01melse\u001b[39;49;00m\u001b[43m \u001b[49m\u001b[43mstream_mode\u001b[49m\u001b[43m,\u001b[49m\n\u001b[32m   3033\u001b[39m \u001b[43m    \u001b[49m\u001b[43mprint_mode\u001b[49m\u001b[43m=\u001b[49m\u001b[43mprint_mode\u001b[49m\u001b[43m,\u001b[49m\n\u001b[32m   3034\u001b[39m \u001b[43m    \u001b[49m\u001b[43moutput_keys\u001b[49m\u001b[43m=\u001b[49m\u001b[43moutput_keys\u001b[49m\u001b[43m,\u001b[49m\n\u001b[32m   3035\u001b[39m \u001b[43m    \u001b[49m\u001b[43minterrupt_before\u001b[49m\u001b[43m=\u001b[49m\u001b[43minterrupt_before\u001b[49m\u001b[43m,\u001b[49m\n\u001b[32m   3036\u001b[39m \u001b[43m    \u001b[49m\u001b[43minterrupt_after\u001b[49m\u001b[43m=\u001b[49m\u001b[43minterrupt_after\u001b[49m\u001b[43m,\u001b[49m\n\u001b[32m   3037\u001b[39m \u001b[43m    \u001b[49m\u001b[43mdurability\u001b[49m\u001b[43m=\u001b[49m\u001b[43mdurability\u001b[49m\u001b[43m,\u001b[49m\n\u001b[32m   3038\u001b[39m \u001b[43m    \u001b[49m\u001b[43m*\u001b[49m\u001b[43m*\u001b[49m\u001b[43mkwargs\u001b[49m\u001b[43m,\u001b[49m\n\u001b[32m   3039\u001b[39m \u001b[43m\u001b[49m\u001b[43m)\u001b[49m\u001b[43m:\u001b[49m\n\u001b[32m   3040\u001b[39m \u001b[43m    \u001b[49m\u001b[38;5;28;43;01mif\u001b[39;49;00m\u001b[43m \u001b[49m\u001b[43mstream_mode\u001b[49m\u001b[43m \u001b[49m\u001b[43m==\u001b[49m\u001b[43m \u001b[49m\u001b[33;43m\"\u001b[39;49m\u001b[33;43mvalues\u001b[39;49m\u001b[33;43m\"\u001b[39;49m\u001b[43m:\u001b[49m\n\u001b[32m   3041\u001b[39m \u001b[43m        \u001b[49m\u001b[38;5;28;43;01mif\u001b[39;49;00m\u001b[43m \u001b[49m\u001b[38;5;28;43mlen\u001b[39;49m\u001b[43m(\u001b[49m\u001b[43mchunk\u001b[49m\u001b[43m)\u001b[49m\u001b[43m \u001b[49m\u001b[43m==\u001b[49m\u001b[43m \u001b[49m\u001b[32;43m2\u001b[39;49m\u001b[43m:\u001b[49m\n",
      "\u001b[36mFile \u001b[39m\u001b[32mc:\\Users\\Akarshan Kapoor\\Documents\\Data Science\\Agentic AI\\LangGraph\\lgraph\\Lib\\site-packages\\langgraph\\pregel\\main.py:2518\u001b[39m, in \u001b[36mPregel.stream\u001b[39m\u001b[34m(self, input, config, context, stream_mode, print_mode, output_keys, interrupt_before, interrupt_after, durability, subgraphs, debug, **kwargs)\u001b[39m\n\u001b[32m   2501\u001b[39m run_manager = callback_manager.on_chain_start(\n\u001b[32m   2502\u001b[39m     \u001b[38;5;28;01mNone\u001b[39;00m,\n\u001b[32m   2503\u001b[39m     \u001b[38;5;28minput\u001b[39m,\n\u001b[32m   2504\u001b[39m     name=config.get(\u001b[33m\"\u001b[39m\u001b[33mrun_name\u001b[39m\u001b[33m\"\u001b[39m, \u001b[38;5;28mself\u001b[39m.get_name()),\n\u001b[32m   2505\u001b[39m     run_id=config.get(\u001b[33m\"\u001b[39m\u001b[33mrun_id\u001b[39m\u001b[33m\"\u001b[39m),\n\u001b[32m   2506\u001b[39m )\n\u001b[32m   2507\u001b[39m \u001b[38;5;28;01mtry\u001b[39;00m:\n\u001b[32m   2508\u001b[39m     \u001b[38;5;66;03m# assign defaults\u001b[39;00m\n\u001b[32m   2509\u001b[39m     (\n\u001b[32m   2510\u001b[39m         stream_modes,\n\u001b[32m   2511\u001b[39m         output_keys,\n\u001b[32m   2512\u001b[39m         interrupt_before_,\n\u001b[32m   2513\u001b[39m         interrupt_after_,\n\u001b[32m   2514\u001b[39m         checkpointer,\n\u001b[32m   2515\u001b[39m         store,\n\u001b[32m   2516\u001b[39m         cache,\n\u001b[32m   2517\u001b[39m         durability_,\n\u001b[32m-> \u001b[39m\u001b[32m2518\u001b[39m     ) = \u001b[38;5;28;43mself\u001b[39;49m\u001b[43m.\u001b[49m\u001b[43m_defaults\u001b[49m\u001b[43m(\u001b[49m\n\u001b[32m   2519\u001b[39m \u001b[43m        \u001b[49m\u001b[43mconfig\u001b[49m\u001b[43m,\u001b[49m\n\u001b[32m   2520\u001b[39m \u001b[43m        \u001b[49m\u001b[43mstream_mode\u001b[49m\u001b[43m=\u001b[49m\u001b[43mstream_mode\u001b[49m\u001b[43m,\u001b[49m\n\u001b[32m   2521\u001b[39m \u001b[43m        \u001b[49m\u001b[43mprint_mode\u001b[49m\u001b[43m=\u001b[49m\u001b[43mprint_mode\u001b[49m\u001b[43m,\u001b[49m\n\u001b[32m   2522\u001b[39m \u001b[43m        \u001b[49m\u001b[43moutput_keys\u001b[49m\u001b[43m=\u001b[49m\u001b[43moutput_keys\u001b[49m\u001b[43m,\u001b[49m\n\u001b[32m   2523\u001b[39m \u001b[43m        \u001b[49m\u001b[43minterrupt_before\u001b[49m\u001b[43m=\u001b[49m\u001b[43minterrupt_before\u001b[49m\u001b[43m,\u001b[49m\n\u001b[32m   2524\u001b[39m \u001b[43m        \u001b[49m\u001b[43minterrupt_after\u001b[49m\u001b[43m=\u001b[49m\u001b[43minterrupt_after\u001b[49m\u001b[43m,\u001b[49m\n\u001b[32m   2525\u001b[39m \u001b[43m        \u001b[49m\u001b[43mdurability\u001b[49m\u001b[43m=\u001b[49m\u001b[43mdurability\u001b[49m\u001b[43m,\u001b[49m\n\u001b[32m   2526\u001b[39m \u001b[43m    \u001b[49m\u001b[43m)\u001b[49m\n\u001b[32m   2527\u001b[39m     \u001b[38;5;28;01mif\u001b[39;00m checkpointer \u001b[38;5;129;01mis\u001b[39;00m \u001b[38;5;28;01mNone\u001b[39;00m \u001b[38;5;129;01mand\u001b[39;00m durability \u001b[38;5;129;01mis\u001b[39;00m \u001b[38;5;129;01mnot\u001b[39;00m \u001b[38;5;28;01mNone\u001b[39;00m:\n\u001b[32m   2528\u001b[39m         warnings.warn(\n\u001b[32m   2529\u001b[39m             \u001b[33m\"\u001b[39m\u001b[33m`durability` has no effect when no checkpointer is present.\u001b[39m\u001b[33m\"\u001b[39m,\n\u001b[32m   2530\u001b[39m         )\n",
      "\u001b[36mFile \u001b[39m\u001b[32mc:\\Users\\Akarshan Kapoor\\Documents\\Data Science\\Agentic AI\\LangGraph\\lgraph\\Lib\\site-packages\\langgraph\\pregel\\main.py:2390\u001b[39m, in \u001b[36mPregel._defaults\u001b[39m\u001b[34m(self, config, stream_mode, print_mode, output_keys, interrupt_before, interrupt_after, durability)\u001b[39m\n\u001b[32m   2388\u001b[39m     checkpointer = \u001b[38;5;28mself\u001b[39m.checkpointer\n\u001b[32m   2389\u001b[39m \u001b[38;5;28;01mif\u001b[39;00m checkpointer \u001b[38;5;129;01mand\u001b[39;00m \u001b[38;5;129;01mnot\u001b[39;00m config.get(CONF):\n\u001b[32m-> \u001b[39m\u001b[32m2390\u001b[39m     \u001b[38;5;28;01mraise\u001b[39;00m \u001b[38;5;167;01mValueError\u001b[39;00m(\n\u001b[32m   2391\u001b[39m         \u001b[33m\"\u001b[39m\u001b[33mCheckpointer requires one or more of the following \u001b[39m\u001b[33m'\u001b[39m\u001b[33mconfigurable\u001b[39m\u001b[33m'\u001b[39m\u001b[33m \u001b[39m\u001b[33m\"\u001b[39m\n\u001b[32m   2392\u001b[39m         \u001b[33m\"\u001b[39m\u001b[33mkeys: thread_id, checkpoint_ns, checkpoint_id\u001b[39m\u001b[33m\"\u001b[39m\n\u001b[32m   2393\u001b[39m     )\n\u001b[32m   2394\u001b[39m \u001b[38;5;28;01mif\u001b[39;00m CONFIG_KEY_RUNTIME \u001b[38;5;129;01min\u001b[39;00m config.get(CONF, {}):\n\u001b[32m   2395\u001b[39m     store: BaseStore | \u001b[38;5;28;01mNone\u001b[39;00m = config[CONF][CONFIG_KEY_RUNTIME].store\n",
      "\u001b[31mValueError\u001b[39m: Checkpointer requires one or more of the following 'configurable' keys: thread_id, checkpoint_ns, checkpoint_id"
     ]
    }
   ],
   "source": [
    "# example run\n",
    "\n",
    "initial_state ={\n",
    "    'messages': [HumanMessage(content=\"Hello, how are you? and who is the prime minister of india?\")]\n",
    "}\n",
    "\n",
    "chatbot.invoke(initial_state)"
   ]
  },
  {
   "cell_type": "code",
   "execution_count": 9,
   "id": "aee43a48",
   "metadata": {},
   "outputs": [
    {
     "name": "stdout",
     "output_type": "stream",
     "text": [
      "User: whats Langgraph and langsmith\n",
      "Bot: Let's break down Langgraph and Langsmith:\n",
      "\n",
      "**Langgraph**\n",
      "\n",
      "* **What it is:** Langgraph is an open-source platform designed to streamline the development and deployment of large language models (LLMs). \n",
      "* **Key Features:**\n",
      "    * **Model Management:**  Langgraph helps you easily organize, track, and manage your LLMs.\n",
      "    * **Training and Fine-Tuning:** It provides tools and infrastructure to efficiently train and fine-tune LLMs on your data.\n",
      "    * **Deployment:** Langgraph simplifies the process of deploying your trained models for use in applications.\n",
      "    * **Community-Driven:**  It's built and maintained by a community of researchers and developers, fostering collaboration and innovation.\n",
      "\n",
      "* **Think of it as:** A comprehensive toolbox specifically for working with LLMs, from creation to deployment.\n",
      "\n",
      "**Langsmith**\n",
      "\n",
      "* **What it is:** Langsmith is an open-source framework focused on making it easier to develop and experiment with LLMs. \n",
      "* **Key Features:**\n",
      "    * **Simplified Interactions:** Langsmith offers a user-friendly interface to interact with LLMs and fine-tune them.\n",
      "    * **Prompt Engineering:**  It includes tools to help you craft effective prompts for your LLMs.\n",
      "    * **Evaluation and Analysis:** Langsmith provides ways to evaluate the performance of your LLMs and analyze their outputs.\n",
      "    * **Integration:** It can be integrated with other tools and platforms, expanding its capabilities.\n",
      "\n",
      "* **Think of it as:** A more hands-on workbench where you can directly experiment and refine your LLM interactions.\n",
      "\n",
      "**In Summary**\n",
      "\n",
      "* **Langgraph:** A platform for the full lifecycle of LLMs, from development to deployment.\n",
      "* **Langsmith:** A framework for experimenting with and fine-tuning LLMs.\n",
      "\n",
      "\n",
      "Both Langgraph and Langsmith are valuable resources in the rapidly evolving world of LLMs, offering different approaches to working with these powerful technologies.\n",
      "\n",
      "User: my nam is Akarshan Kapoor\n",
      "Bot: It's nice to meet you, Akarshan Kapoor! \n",
      "\n",
      "Is there anything I can help you with today? Perhaps you have questions about Langgraph, Langsmith, or something else entirely? I'm here to assist in any way I can.\n",
      "\n",
      "User: whats my name\n",
      "Bot: Your name is Akarshan Kapoor.  \n",
      "\n",
      "I remember! 😊  Is there anything else I can help you with?\n",
      "\n",
      "User: bye\n",
      "Exiting the chat. Goodbye!\n"
     ]
    }
   ],
   "source": [
    "\n",
    "thread_id = '1'\n",
    "\n",
    "while True:\n",
    "    user_message =input(\"Type here: \")\n",
    "    print('User:',user_message)\n",
    "\n",
    "    if user_message.strip().lower() in ['exit','quit','close','bye']:\n",
    "        print(\"Exiting the chat. Goodbye!\")\n",
    "        break\n",
    "    \n",
    "    config ={'configurable': {'thread_id': thread_id}}\n",
    "    response =chatbot.invoke({'messages':[HumanMessage(content=user_message)]},config=config )\n",
    "\n",
    "    print('Bot:',response['messages'][-1].content)\n",
    "\n"
   ]
  },
  {
   "cell_type": "code",
   "execution_count": 10,
   "id": "47b5927a",
   "metadata": {},
   "outputs": [
    {
     "data": {
      "text/plain": [
       "StateSnapshot(values={'messages': [HumanMessage(content='whats Langgraph and langsmith', additional_kwargs={}, response_metadata={}, id='11ea3ab7-7ca9-47c4-83da-9932a23bc385'), AIMessage(content=\"Let's break down Langgraph and Langsmith:\\n\\n**Langgraph**\\n\\n* **What it is:** Langgraph is an open-source platform designed to streamline the development and deployment of large language models (LLMs). \\n* **Key Features:**\\n    * **Model Management:**  Langgraph helps you easily organize, track, and manage your LLMs.\\n    * **Training and Fine-Tuning:** It provides tools and infrastructure to efficiently train and fine-tune LLMs on your data.\\n    * **Deployment:** Langgraph simplifies the process of deploying your trained models for use in applications.\\n    * **Community-Driven:**  It's built and maintained by a community of researchers and developers, fostering collaboration and innovation.\\n\\n* **Think of it as:** A comprehensive toolbox specifically for working with LLMs, from creation to deployment.\\n\\n**Langsmith**\\n\\n* **What it is:** Langsmith is an open-source framework focused on making it easier to develop and experiment with LLMs. \\n* **Key Features:**\\n    * **Simplified Interactions:** Langsmith offers a user-friendly interface to interact with LLMs and fine-tune them.\\n    * **Prompt Engineering:**  It includes tools to help you craft effective prompts for your LLMs.\\n    * **Evaluation and Analysis:** Langsmith provides ways to evaluate the performance of your LLMs and analyze their outputs.\\n    * **Integration:** It can be integrated with other tools and platforms, expanding its capabilities.\\n\\n* **Think of it as:** A more hands-on workbench where you can directly experiment and refine your LLM interactions.\\n\\n**In Summary**\\n\\n* **Langgraph:** A platform for the full lifecycle of LLMs, from development to deployment.\\n* **Langsmith:** A framework for experimenting with and fine-tuning LLMs.\\n\\n\\nBoth Langgraph and Langsmith are valuable resources in the rapidly evolving world of LLMs, offering different approaches to working with these powerful technologies.\\n\", additional_kwargs={}, response_metadata={'token_usage': {'completion_tokens': 411, 'prompt_tokens': 15, 'total_tokens': 426, 'completion_time': 0.747272727, 'prompt_time': 0.001266399, 'queue_time': 0.25045922, 'total_time': 0.748539126}, 'model_name': 'gemma2-9b-it', 'system_fingerprint': 'fp_10c08bf97d', 'service_tier': 'on_demand', 'finish_reason': 'stop', 'logprobs': None}, id='run--95660417-8434-4981-b850-302bf52f2cce-0', usage_metadata={'input_tokens': 15, 'output_tokens': 411, 'total_tokens': 426}), HumanMessage(content='my nam is Akarshan Kapoor', additional_kwargs={}, response_metadata={}, id='d08b2251-fcc4-4056-9c03-2aebd1f55f1f'), AIMessage(content=\"It's nice to meet you, Akarshan Kapoor! \\n\\nIs there anything I can help you with today? Perhaps you have questions about Langgraph, Langsmith, or something else entirely? I'm here to assist in any way I can.\\n\", additional_kwargs={}, response_metadata={'token_usage': {'completion_tokens': 55, 'prompt_tokens': 440, 'total_tokens': 495, 'completion_time': 0.1, 'prompt_time': 0.009015723, 'queue_time': 0.253153127, 'total_time': 0.109015723}, 'model_name': 'gemma2-9b-it', 'system_fingerprint': 'fp_10c08bf97d', 'service_tier': 'on_demand', 'finish_reason': 'stop', 'logprobs': None}, id='run--03496f82-4772-488a-9d95-675228650a5f-0', usage_metadata={'input_tokens': 440, 'output_tokens': 55, 'total_tokens': 495}), HumanMessage(content='whats my name', additional_kwargs={}, response_metadata={}, id='656b310a-5afb-4619-9a33-38203b9e97ab'), AIMessage(content='Your name is Akarshan Kapoor.  \\n\\nI remember! 😊  Is there anything else I can help you with?\\n', additional_kwargs={}, response_metadata={'token_usage': {'completion_tokens': 27, 'prompt_tokens': 506, 'total_tokens': 533, 'completion_time': 0.049090909, 'prompt_time': 0.010187723, 'queue_time': 0.252166667, 'total_time': 0.059278632}, 'model_name': 'gemma2-9b-it', 'system_fingerprint': 'fp_10c08bf97d', 'service_tier': 'on_demand', 'finish_reason': 'stop', 'logprobs': None}, id='run--032ebd94-1c96-49bd-a0ec-8cddd19e5b49-0', usage_metadata={'input_tokens': 506, 'output_tokens': 27, 'total_tokens': 533})]}, next=(), config={'configurable': {'thread_id': '1', 'checkpoint_ns': '', 'checkpoint_id': '1f091cc9-5a75-6b98-8007-cc21568108eb'}}, metadata={'source': 'loop', 'step': 7, 'parents': {}}, created_at='2025-09-15T00:40:31.861425+00:00', parent_config={'configurable': {'thread_id': '1', 'checkpoint_ns': '', 'checkpoint_id': '1f091cc9-55cb-67c8-8006-ebe6abfaaa1f'}}, tasks=(), interrupts=())"
      ]
     },
     "execution_count": 10,
     "metadata": {},
     "output_type": "execute_result"
    }
   ],
   "source": [
    "chatbot.get_state(config={'configurable': {'thread_id': thread_id}})"
   ]
  }
 ],
 "metadata": {
  "kernelspec": {
   "display_name": "lgraph",
   "language": "python",
   "name": "python3"
  },
  "language_info": {
   "codemirror_mode": {
    "name": "ipython",
    "version": 3
   },
   "file_extension": ".py",
   "mimetype": "text/x-python",
   "name": "python",
   "nbconvert_exporter": "python",
   "pygments_lexer": "ipython3",
   "version": "3.13.7"
  }
 },
 "nbformat": 4,
 "nbformat_minor": 5
}
